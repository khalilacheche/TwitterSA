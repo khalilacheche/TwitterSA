{
 "cells": [
  {
   "cell_type": "code",
   "execution_count": 5,
   "metadata": {},
   "outputs": [],
   "source": [
    "import pandas as pd\n",
    "import matplotlib.pyplot as plt\n",
    "import seaborn as sns\n",
    "import pickle\n",
    "from textCleaner import clean_text\n",
    "from sklearn.feature_extraction.text import TfidfVectorizer\n",
    "from sklearn.linear_model import LogisticRegression\n",
    "from sklearn.model_selection import cross_val_score\n",
    "\n",
    "directory = './data/'"
   ]
  },
  {
   "attachments": {},
   "cell_type": "markdown",
   "metadata": {},
   "source": [
    "This notebook shows how we trained our regression model on a TF-IDF matrix while using N-grams.\n",
    "Here is an overview of the steps we took:\n",
    "1. Import the data \n",
    "2. Preprocess the data \n",
    "3. Cross validation on the number of grams to use \n",
    "4. Plott the results and conclunding "
   ]
  },
  {
   "attachments": {},
   "cell_type": "markdown",
   "metadata": {},
   "source": [
    "### 1) Load the pickled data "
   ]
  },
  {
   "cell_type": "code",
   "execution_count": 4,
   "metadata": {},
   "outputs": [
    {
     "data": {
      "text/html": [
       "<div>\n",
       "<style scoped>\n",
       "    .dataframe tbody tr th:only-of-type {\n",
       "        vertical-align: middle;\n",
       "    }\n",
       "\n",
       "    .dataframe tbody tr th {\n",
       "        vertical-align: top;\n",
       "    }\n",
       "\n",
       "    .dataframe thead th {\n",
       "        text-align: right;\n",
       "    }\n",
       "</style>\n",
       "<table border=\"1\" class=\"dataframe\">\n",
       "  <thead>\n",
       "    <tr style=\"text-align: right;\">\n",
       "      <th></th>\n",
       "      <th>text</th>\n",
       "      <th>label</th>\n",
       "    </tr>\n",
       "  </thead>\n",
       "  <tbody>\n",
       "    <tr>\n",
       "      <th>569849</th>\n",
       "      <td>&lt;user&gt; hey kaleem can you follow my band &lt;user...</td>\n",
       "      <td>1</td>\n",
       "    </tr>\n",
       "    <tr>\n",
       "      <th>770378</th>\n",
       "      <td>lyk i saw u sum wher ... rt &lt;user&gt; \" &lt;user&gt; k ...</td>\n",
       "      <td>1</td>\n",
       "    </tr>\n",
       "    <tr>\n",
       "      <th>222283</th>\n",
       "      <td>&lt;user&gt; we are going to try the jello jigglers ...</td>\n",
       "      <td>1</td>\n",
       "    </tr>\n",
       "    <tr>\n",
       "      <th>1033138</th>\n",
       "      <td>when you're in a relationship and it's good , ...</td>\n",
       "      <td>1</td>\n",
       "    </tr>\n",
       "    <tr>\n",
       "      <th>2241272</th>\n",
       "      <td>` metra 99-7505 single or double din installat...</td>\n",
       "      <td>-1</td>\n",
       "    </tr>\n",
       "    <tr>\n",
       "      <th>2405371</th>\n",
       "      <td>from my blog : shirtless saturday : hot gay gu...</td>\n",
       "      <td>-1</td>\n",
       "    </tr>\n",
       "    <tr>\n",
       "      <th>118989</th>\n",
       "      <td>&lt;user&gt; well in that case , i'm glad you didn't...</td>\n",
       "      <td>1</td>\n",
       "    </tr>\n",
       "    <tr>\n",
       "      <th>541935</th>\n",
       "      <td>&lt;user&gt; oppa loves you the most</td>\n",
       "      <td>1</td>\n",
       "    </tr>\n",
       "    <tr>\n",
       "      <th>990229</th>\n",
       "      <td>february as cold as my heart</td>\n",
       "      <td>1</td>\n",
       "    </tr>\n",
       "    <tr>\n",
       "      <th>1012033</th>\n",
       "      <td>&lt;user&gt; &lt;user&gt; love this one ! &lt;url&gt;</td>\n",
       "      <td>1</td>\n",
       "    </tr>\n",
       "  </tbody>\n",
       "</table>\n",
       "</div>"
      ],
      "text/plain": [
       "                                                      text  label\n",
       "569849   <user> hey kaleem can you follow my band <user...      1\n",
       "770378   lyk i saw u sum wher ... rt <user> \" <user> k ...      1\n",
       "222283   <user> we are going to try the jello jigglers ...      1\n",
       "1033138  when you're in a relationship and it's good , ...      1\n",
       "2241272  ` metra 99-7505 single or double din installat...     -1\n",
       "2405371  from my blog : shirtless saturday : hot gay gu...     -1\n",
       "118989   <user> well in that case , i'm glad you didn't...      1\n",
       "541935                      <user> oppa loves you the most      1\n",
       "990229                        february as cold as my heart      1\n",
       "1012033                <user> <user> love this one ! <url>      1"
      ]
     },
     "execution_count": 4,
     "metadata": {},
     "output_type": "execute_result"
    }
   ],
   "source": [
    "# Load the data from pickle file\n",
    "with open(directory + 'train_sample.pickle', 'rb') as f:\n",
    "    train_sample  = pickle.load(f)\n",
    "\n",
    "train_sample.sample(10)"
   ]
  },
  {
   "attachments": {},
   "cell_type": "markdown",
   "metadata": {},
   "source": [
    "### 2) Preprocess the data"
   ]
  },
  {
   "cell_type": "code",
   "execution_count": null,
   "metadata": {},
   "outputs": [],
   "source": [
    "train_sample['cleaned'] = train_sample['text'].apply(lambda text : clean_text(text, remove_stopwords=False))"
   ]
  },
  {
   "cell_type": "code",
   "execution_count": 4,
   "metadata": {},
   "outputs": [
    {
     "data": {
      "text/html": [
       "<div>\n",
       "<style scoped>\n",
       "    .dataframe tbody tr th:only-of-type {\n",
       "        vertical-align: middle;\n",
       "    }\n",
       "\n",
       "    .dataframe tbody tr th {\n",
       "        vertical-align: top;\n",
       "    }\n",
       "\n",
       "    .dataframe thead th {\n",
       "        text-align: right;\n",
       "    }\n",
       "</style>\n",
       "<table border=\"1\" class=\"dataframe\">\n",
       "  <thead>\n",
       "    <tr style=\"text-align: right;\">\n",
       "      <th></th>\n",
       "      <th>text</th>\n",
       "      <th>label</th>\n",
       "      <th>cleaned</th>\n",
       "    </tr>\n",
       "  </thead>\n",
       "  <tbody>\n",
       "    <tr>\n",
       "      <th>1596268</th>\n",
       "      <td>bahlsen hit cream sandwich cookies , 5.3- ounc...</td>\n",
       "      <td>-1</td>\n",
       "      <td>bahlsen hit cream sandwich cooky , &lt;number&gt; - ...</td>\n",
       "    </tr>\n",
       "    <tr>\n",
       "      <th>1788564</th>\n",
       "      <td>&lt;user&gt; i work till 4pm either i bring my shit ...</td>\n",
       "      <td>-1</td>\n",
       "      <td>&lt;user&gt; i work till &lt;time&gt; either i bring my sh...</td>\n",
       "    </tr>\n",
       "    <tr>\n",
       "      <th>1066496</th>\n",
       "      <td>&lt;user&gt; haha its all good . i was bout to say y...</td>\n",
       "      <td>1</td>\n",
       "      <td>&lt;user&gt; haha it all good . i wa about to say yo...</td>\n",
       "    </tr>\n",
       "    <tr>\n",
       "      <th>236204</th>\n",
       "      <td>let me ride till the sun rises ,</td>\n",
       "      <td>1</td>\n",
       "      <td>let me ride till the sun rise ,</td>\n",
       "    </tr>\n",
       "    <tr>\n",
       "      <th>2445015</th>\n",
       "      <td>fuji 3 - pack 120 - minute vhs tapes ( hqt 120...</td>\n",
       "      <td>-1</td>\n",
       "      <td>fuji &lt;number&gt; - pack &lt;number&gt; - minute vhs tap...</td>\n",
       "    </tr>\n",
       "    <tr>\n",
       "      <th>557595</th>\n",
       "      <td>it's always that one person i know i can talk ...</td>\n",
       "      <td>1</td>\n",
       "      <td>it's always that one person i know i can talk ...</td>\n",
       "    </tr>\n",
       "    <tr>\n",
       "      <th>71957</th>\n",
       "      <td>proud of myself for actually coming to my one ...</td>\n",
       "      <td>1</td>\n",
       "      <td>proud of myself for actually coming to my one ...</td>\n",
       "    </tr>\n",
       "    <tr>\n",
       "      <th>1047306</th>\n",
       "      <td>&lt;user&gt; i really loved reading that review !</td>\n",
       "      <td>1</td>\n",
       "      <td>&lt;user&gt; i really loved reading that review !</td>\n",
       "    </tr>\n",
       "    <tr>\n",
       "      <th>650857</th>\n",
       "      <td>thank god it's friday have a bless day )</td>\n",
       "      <td>1</td>\n",
       "      <td>thank god it's friday have a bless day )</td>\n",
       "    </tr>\n",
       "    <tr>\n",
       "      <th>2141506</th>\n",
       "      <td>nights like this , i wish we could talk like w...</td>\n",
       "      <td>-1</td>\n",
       "      <td>night like this , i wish we could talk like we...</td>\n",
       "    </tr>\n",
       "  </tbody>\n",
       "</table>\n",
       "</div>"
      ],
      "text/plain": [
       "                                                      text  label  \\\n",
       "1596268  bahlsen hit cream sandwich cookies , 5.3- ounc...     -1   \n",
       "1788564  <user> i work till 4pm either i bring my shit ...     -1   \n",
       "1066496  <user> haha its all good . i was bout to say y...      1   \n",
       "236204                    let me ride till the sun rises ,      1   \n",
       "2445015  fuji 3 - pack 120 - minute vhs tapes ( hqt 120...     -1   \n",
       "557595   it's always that one person i know i can talk ...      1   \n",
       "71957    proud of myself for actually coming to my one ...      1   \n",
       "1047306        <user> i really loved reading that review !      1   \n",
       "650857            thank god it's friday have a bless day )      1   \n",
       "2141506  nights like this , i wish we could talk like w...     -1   \n",
       "\n",
       "                                                   cleaned  \n",
       "1596268  bahlsen hit cream sandwich cooky , <number> - ...  \n",
       "1788564  <user> i work till <time> either i bring my sh...  \n",
       "1066496  <user> haha it all good . i wa about to say yo...  \n",
       "236204                     let me ride till the sun rise ,  \n",
       "2445015  fuji <number> - pack <number> - minute vhs tap...  \n",
       "557595   it's always that one person i know i can talk ...  \n",
       "71957    proud of myself for actually coming to my one ...  \n",
       "1047306        <user> i really loved reading that review !  \n",
       "650857            thank god it's friday have a bless day )  \n",
       "2141506  night like this , i wish we could talk like we...  "
      ]
     },
     "execution_count": 4,
     "metadata": {},
     "output_type": "execute_result"
    }
   ],
   "source": [
    "train_sample.sample(10)"
   ]
  },
  {
   "attachments": {},
   "cell_type": "markdown",
   "metadata": {},
   "source": [
    "### 3) Cross validation on the number of grams to use "
   ]
  },
  {
   "cell_type": "code",
   "execution_count": null,
   "metadata": {},
   "outputs": [],
   "source": [
    "# Create a dictionary to keep track of the number of features for each ngram_range\n",
    "shapes = {}\n",
    "# Create a dictionary to keep track of the accuracy for each ngram_range\n",
    "accuracy = {}\n",
    "# Create a dictionary to keep track of the standard deviation for each ngram_range\n",
    "std = {}\n",
    "\n",
    "\n",
    "for n in range(1,8):\n",
    "\n",
    "    # Create a TF-IDF matrix with n-grams, and keep only the grams that appear at least 10 times\n",
    "    vectorizer = TfidfVectorizer(ngram_range=(1, n), min_df = 10)\n",
    "    # Fit the vectorizer on the training data\n",
    "    X = vectorizer.fit_transform(train_sample['cleaned'])\n",
    "    # Define the labels\n",
    "    y = train_sample['label'].values\n",
    "\n",
    "    # Store the number of features\n",
    "    shapes[n] = X.shape\n",
    "\n",
    "    # Define the model\n",
    "    model = LogisticRegression(C = 4, max_iter = 10000, n_jobs=-1)\n",
    "    # Evaluate the model's performance using cross-validation\n",
    "    scores = cross_val_score(model, X, y, cv=5)\n",
    "\n",
    "    # Store the accuracy and standard deviation\n",
    "    accuracy[n] = scores.mean()\n",
    "    std[n] = scores.std()\n",
    "    \n"
   ]
  },
  {
   "cell_type": "code",
   "execution_count": 5,
   "metadata": {},
   "outputs": [
    {
     "data": {
      "text/html": [
       "<div>\n",
       "<style scoped>\n",
       "    .dataframe tbody tr th:only-of-type {\n",
       "        vertical-align: middle;\n",
       "    }\n",
       "\n",
       "    .dataframe tbody tr th {\n",
       "        vertical-align: top;\n",
       "    }\n",
       "\n",
       "    .dataframe thead th {\n",
       "        text-align: right;\n",
       "    }\n",
       "</style>\n",
       "<table border=\"1\" class=\"dataframe\">\n",
       "  <thead>\n",
       "    <tr style=\"text-align: right;\">\n",
       "      <th></th>\n",
       "      <th>accuracy</th>\n",
       "      <th>std</th>\n",
       "      <th>nb_features</th>\n",
       "    </tr>\n",
       "    <tr>\n",
       "      <th>ngram_range</th>\n",
       "      <th></th>\n",
       "      <th></th>\n",
       "      <th></th>\n",
       "    </tr>\n",
       "  </thead>\n",
       "  <tbody>\n",
       "    <tr>\n",
       "      <th>1</th>\n",
       "      <td>0.816046</td>\n",
       "      <td>0.02</td>\n",
       "      <td>48240</td>\n",
       "    </tr>\n",
       "    <tr>\n",
       "      <th>2</th>\n",
       "      <td>0.849083</td>\n",
       "      <td>0.02</td>\n",
       "      <td>296074</td>\n",
       "    </tr>\n",
       "    <tr>\n",
       "      <th>3</th>\n",
       "      <td>0.853882</td>\n",
       "      <td>0.02</td>\n",
       "      <td>553431</td>\n",
       "    </tr>\n",
       "    <tr>\n",
       "      <th>4</th>\n",
       "      <td>0.854548</td>\n",
       "      <td>0.02</td>\n",
       "      <td>699463</td>\n",
       "    </tr>\n",
       "    <tr>\n",
       "      <th>5</th>\n",
       "      <td>0.854473</td>\n",
       "      <td>0.02</td>\n",
       "      <td>778784</td>\n",
       "    </tr>\n",
       "    <tr>\n",
       "      <th>6</th>\n",
       "      <td>0.854505</td>\n",
       "      <td>0.02</td>\n",
       "      <td>831362</td>\n",
       "    </tr>\n",
       "    <tr>\n",
       "      <th>7</th>\n",
       "      <td>0.854502</td>\n",
       "      <td>0.02</td>\n",
       "      <td>872764</td>\n",
       "    </tr>\n",
       "  </tbody>\n",
       "</table>\n",
       "</div>"
      ],
      "text/plain": [
       "             accuracy   std  nb_features\n",
       "ngram_range                             \n",
       "1            0.816046  0.02        48240\n",
       "2            0.849083  0.02       296074\n",
       "3            0.853882  0.02       553431\n",
       "4            0.854548  0.02       699463\n",
       "5            0.854473  0.02       778784\n",
       "6            0.854505  0.02       831362\n",
       "7            0.854502  0.02       872764"
      ]
     },
     "execution_count": 5,
     "metadata": {},
     "output_type": "execute_result"
    }
   ],
   "source": [
    "# Cre ate a dataframe with the results\n",
    "df = pd.DataFrame({'accuracy': accuracy, 'std': std, 'nb_features': shapes[1]})\n",
    "df.index.name = 'ngram_range'\n",
    "df"
   ]
  },
  {
   "attachments": {},
   "cell_type": "markdown",
   "metadata": {},
   "source": [
    "### 4) Plott the results and conclunding "
   ]
  },
  {
   "cell_type": "code",
   "execution_count": 32,
   "metadata": {},
   "outputs": [
    {
     "data": {
      "image/png": "[encoded data removed]",
      "text/plain": [
       "<Figure size 432x288 with 2 Axes>"
      ]
     },
     "metadata": {},
     "output_type": "display_data"
    }
   ],
   "source": [
    "# plot the accuracy as a line and the standard deviation as a shaded area\n",
    "sns.set_style('white')\n",
    "plt.figure(figsize=(6,4))\n",
    "plt.plot(df.index, df['accuracy'], color='blue', marker='o', markersize=5, label='accuracy')\n",
    "plt.fill_between(df.index, df['accuracy'] + df['std'], df['accuracy'] - df['std'], alpha=0.15, color='blue')\n",
    "plt.xlabel('Ngram range')\n",
    "plt.ylabel('Accuracy')\n",
    "# add a legend for the line and the shaded area\n",
    "plt.legend(loc='lower right') \n",
    "plt.ylim([0.7, 0.9])\n",
    "# on a different axis, plot the number of features\n",
    "ax2 = plt.twinx()\n",
    "ax2.plot(df.index, df['nb_features'], color='red', marker='o', markersize=5, label='nb_features')\n",
    "ax2.set_ylabel('Number of grams (features)')\n",
    "ax2.legend(loc='upper right')\n",
    "\n",
    "plt.show()\n"
   ]
  },
  {
   "attachments": {},
   "cell_type": "markdown",
   "metadata": {},
   "source": [
    "From the above figure we can see that the 3-grams are the last grams that significantly affect the accuracy (≃ 85%) of the model while presenting the advantage of being less parameterized (<600 000 features) than the following grams."
   ]
  }
 ],
 "metadata": {
  "kernelspec": {
   "display_name": "Python 3.9.12 64-bit",
   "language": "python",
   "name": "python3"
  },
  "language_info": {
   "codemirror_mode": {
    "name": "ipython",
    "version": 3
   },
   "file_extension": ".py",
   "mimetype": "text/x-python",
   "name": "python",
   "nbconvert_exporter": "python",
   "pygments_lexer": "ipython3",
   "version": "3.9.12 (main, Mar 26 2022, 15:44:31) \n[Clang 13.1.6 (clang-1316.0.21.2)]"
  },
  "orig_nbformat": 4,
  "vscode": {
   "interpreter": {
    "hash": "b0fa6594d8f4cbf19f97940f81e996739fb7646882a419484c72d19e05852a7e"
   }
  }
 },
 "nbformat": 4,
 "nbformat_minor": 2
}
